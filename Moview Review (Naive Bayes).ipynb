{
 "cells": [
  {
   "cell_type": "markdown",
   "id": "d30d6b69",
   "metadata": {},
   "source": [
    "# MOVIE REVIEW ANALYSIS\n",
    "\n"
   ]
  },
  {
   "cell_type": "code",
   "execution_count": 1,
   "id": "2e592d14",
   "metadata": {},
   "outputs": [],
   "source": [
    "import math\n",
    "import pandas as pd\n",
    "import re\n",
    "from nltk.corpus import stopwords\n",
    "from nltk.tokenize import word_tokenize\n",
    "import gensim\n",
    "from gensim.models import Word2Vec\n",
    "from sklearn.metrics import accuracy_score, f1_score"
   ]
  },
  {
   "cell_type": "code",
   "execution_count": 2,
   "id": "90c58656",
   "metadata": {},
   "outputs": [],
   "source": [
    "#IMPLEMENT THE NAIVE BAYES CLASSIFIER \n",
    "class NaiveBayesClassifier:\n",
    "    def __init__(self):\n",
    "        self.positive_reviews = []\n",
    "        self.negative_reviews = []\n",
    "        self.positive_words = {}\n",
    "        self.negative_words = {}\n",
    "        self.total_positive_reviews = 0\n",
    "        self.total_negative_reviews = 0\n",
    "\n",
    "    def train(self, dataset):\n",
    "        for _, row in dataset.iterrows():\n",
    "            review = row['review']\n",
    "            sentiment = row['sentiment']\n",
    "            \n",
    "            if sentiment == 'positive':\n",
    "                self.positive_reviews.append(review)\n",
    "                self.total_positive_reviews += 1\n",
    "            else:\n",
    "                self.negative_reviews.append(review)\n",
    "                self.total_negative_reviews += 1\n",
    "\n",
    "            words = review.split()\n",
    "            for word in words:\n",
    "                if sentiment == 'positive':\n",
    "                    self.positive_words[word] = self.positive_words.get(word, 0) + 1\n",
    "                else:\n",
    "                    self.negative_words[word] = self.negative_words.get(word, 0) + 1\n",
    "                    \n",
    "    def calculate_probability(self, words, sentiment):\n",
    "        if sentiment == 'positive':\n",
    "            total_reviews = self.total_positive_reviews\n",
    "            review_count = len(self.positive_reviews)\n",
    "            word_count = sum(self.positive_words.values())\n",
    "            words_dict = self.positive_words\n",
    "        else:\n",
    "            total_reviews = self.total_negative_reviews\n",
    "            review_count = len(self.negative_reviews)\n",
    "            word_count = sum(self.negative_words.values())\n",
    "            words_dict = self.negative_words\n",
    "\n",
    "        probability = math.log(review_count / total_reviews)\n",
    "        for word in words:\n",
    "            word_occurrences = words_dict.get(word, 0) + 1\n",
    "            word_probability = word_occurrences / (word_count + len(words_dict))\n",
    "            probability += math.log(word_probability)\n",
    "\n",
    "        return probability\n",
    "\n",
    "    def predict(self, review):\n",
    "        words = review.split()\n",
    "\n",
    "        positive_probability = self.calculate_probability(words, 'positive')\n",
    "        negative_probability = self.calculate_probability(words, 'negative')\n",
    "\n",
    "        if positive_probability > negative_probability:\n",
    "            return 'positive'\n",
    "        else:\n",
    "            return 'negative'    \n"
   ]
  },
  {
   "cell_type": "code",
   "execution_count": 3,
   "id": "39ab9804",
   "metadata": {},
   "outputs": [],
   "source": [
    "# Load the dataset\n",
    "dataset = pd.read_csv(\"C:/Users/manza/Downloads/dataset.csv\")\n"
   ]
  },
  {
   "cell_type": "code",
   "execution_count": 4,
   "id": "9ac474f5",
   "metadata": {},
   "outputs": [],
   "source": [
    "# Preprocess the text data\n",
    "def preprocess_text(text):\n",
    "    text = text.lower()\n",
    "    text = re.sub(r'[^\\w\\s]', '', text)\n",
    "    words = word_tokenize(text)\n",
    "    words = [word for word in words if word not in stopwords.words('english')]\n",
    "    return ' '.join(words)  # Join the list of words back into a string\n",
    "\n",
    "dataset['review'] = dataset['review'].apply(preprocess_text)"
   ]
  },
  {
   "cell_type": "code",
   "execution_count": 5,
   "id": "7078db8f",
   "metadata": {},
   "outputs": [],
   "source": [
    "# Create an instance of the Word2Vec model\n",
    "word2vec_model = Word2Vec(sentences=dataset['review'].apply(word_tokenize), vector_size=100, window=5, min_count=1, sg=0)"
   ]
  },
  {
   "cell_type": "code",
   "execution_count": 6,
   "id": "21315f01",
   "metadata": {},
   "outputs": [],
   "source": [
    "# Split the dataset into train and test sets\n",
    "train_size = int(0.8 * len(dataset))\n",
    "train_dataset = dataset[:train_size]\n",
    "test_dataset = dataset[train_size:]"
   ]
  },
  {
   "cell_type": "code",
   "execution_count": 7,
   "id": "8a930e23",
   "metadata": {},
   "outputs": [],
   "source": [
    "# Create an instance of the classifier and train it\n",
    "classifier = NaiveBayesClassifier()\n",
    "classifier.train(dataset[['review', 'sentiment']])  # Pass only the relevant columns"
   ]
  },
  {
   "cell_type": "code",
   "execution_count": 8,
   "id": "0e5a6ae2",
   "metadata": {},
   "outputs": [],
   "source": [
    "# Evaluate the model on the test set\n",
    "true_labels = test_dataset['sentiment']\n",
    "predicted_labels = [classifier.predict(preprocess_text(review)) for review in test_dataset['review']]\n"
   ]
  },
  {
   "cell_type": "code",
   "execution_count": 9,
   "id": "fb99a3a5",
   "metadata": {},
   "outputs": [],
   "source": [
    "#calculating the accuracy of the model\n",
    "accuracy = accuracy_score(true_labels, predicted_labels)\n"
   ]
  },
  {
   "cell_type": "code",
   "execution_count": 10,
   "id": "69ad1f3c",
   "metadata": {},
   "outputs": [
    {
     "name": "stdout",
     "output_type": "stream",
     "text": [
      "Give us your review:The movie was bad i did not like the movie\n",
      "Original Review: The movie was bad i did not like the movie\n",
      "Preprocessed Review: movie bad like movie\n",
      "Sentiment: negative\n",
      "Accuracy: 0.97\n"
     ]
    }
   ],
   "source": [
    "# Input a review and predict sentiment\n",
    "review = input(\"Give us your review:\")\n",
    "preprocessed_review = preprocess_text(review)\n",
    "embedding_vector = sum([word2vec_model.wv[word] for word in word_tokenize(preprocessed_review) if word in word2vec_model.wv])\n",
    "prediction = classifier.predict(preprocessed_review)\n",
    "print(f\"Original Review: {review}\")\n",
    "print(f\"Preprocessed Review: {preprocessed_review}\")\n",
    "print(f\"Sentiment: {prediction}\")\n",
    "\n",
    "print(f\"Accuracy: {accuracy:.2f}\")\n"
   ]
  },
  {
   "cell_type": "code",
   "execution_count": null,
   "id": "25f86c79",
   "metadata": {},
   "outputs": [],
   "source": []
  }
 ],
 "metadata": {
  "kernelspec": {
   "display_name": "Python 3 (ipykernel)",
   "language": "python",
   "name": "python3"
  },
  "language_info": {
   "codemirror_mode": {
    "name": "ipython",
    "version": 3
   },
   "file_extension": ".py",
   "mimetype": "text/x-python",
   "name": "python",
   "nbconvert_exporter": "python",
   "pygments_lexer": "ipython3",
   "version": "3.10.9"
  }
 },
 "nbformat": 4,
 "nbformat_minor": 5
}
